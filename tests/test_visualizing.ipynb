{
 "cells": [
  {
   "cell_type": "code",
   "execution_count": 1,
   "id": "bb0d4bc1-fbaa-41b9-bc03-51e246fd9f03",
   "metadata": {},
   "outputs": [
    {
     "name": "stderr",
     "output_type": "stream",
     "text": [
      "test_visualize_molecules_for_cream (__main__.TestVisualizingFunctions) ... "
     ]
    },
    {
     "name": "stdout",
     "output_type": "stream",
     "text": [
      "Total molécules pour la crème Cream A: 2\n",
      "Match trouvé pour Isopropyl dans la molécule CC(C)O\n",
      "Match trouvé pour Linalool dans la molécule CC(=C)CCC1=CC=C(C=C1)O\n"
     ]
    },
    {
     "data": {
      "image/svg+xml": [
       "<svg xmlns=\"http://www.w3.org/2000/svg\" xmlns:rdkit=\"http://www.rdkit.org/xml\" xmlns:xlink=\"http://www.w3.org/1999/xlink\" version=\"1.1\" baseProfile=\"full\" xml:space=\"preserve\" width=\"500px\" height=\"500px\" viewBox=\"0 0 500 500\">\n",
       "<!-- END OF HEADER -->\n",
       "<rect style=\"opacity:1.0;fill:#FFFFFF;stroke:none\" width=\"500.0\" height=\"500.0\" x=\"0.0\" y=\"0.0\"> </rect>\n",
       "<path class=\"bond-0 atom-0 atom-1\" d=\"M 227.3,290.1 L 250.0,303.2 L 250.0,329.4 L 76.7,429.5 L 54.0,390.1 Z\" style=\"fill:#00FF00;fill-rule:evenodd;fill-opacity:1;stroke:#00FF00;stroke-width:0.0px;stroke-linecap:butt;stroke-linejoin:miter;stroke-opacity:1;\"/>\n",
       "<path class=\"bond-1 atom-1 atom-2\" d=\"M 272.7,290.1 L 446.0,390.1 L 423.3,429.5 L 250.0,329.4 L 250.0,303.2 Z\" style=\"fill:#00FF00;fill-rule:evenodd;fill-opacity:1;stroke:#00FF00;stroke-width:0.0px;stroke-linecap:butt;stroke-linejoin:miter;stroke-opacity:1;\"/>\n",
       "<path class=\"bond-2 atom-1 atom-3\" d=\"M 227.3,90.0 L 272.7,90.0 L 272.7,290.1 L 250.0,303.2 L 227.3,290.1 Z\" style=\"fill:#00FF00;fill-rule:evenodd;fill-opacity:1;stroke:#00FF00;stroke-width:0.0px;stroke-linecap:butt;stroke-linejoin:miter;stroke-opacity:1;\"/>\n",
       "<ellipse cx=\"65.4\" cy=\"409.8\" rx=\"42.6\" ry=\"42.6\" class=\"atom-0\" style=\"fill:#00FF00;fill-rule:evenodd;stroke:#00FF00;stroke-width:1.0px;stroke-linecap:butt;stroke-linejoin:miter;stroke-opacity:1\"/>\n",
       "<ellipse cx=\"250.0\" cy=\"303.2\" rx=\"42.6\" ry=\"42.6\" class=\"atom-1\" style=\"fill:#00FF00;fill-rule:evenodd;stroke:#00FF00;stroke-width:1.0px;stroke-linecap:butt;stroke-linejoin:miter;stroke-opacity:1\"/>\n",
       "<ellipse cx=\"434.6\" cy=\"409.8\" rx=\"42.6\" ry=\"42.6\" class=\"atom-2\" style=\"fill:#00FF00;fill-rule:evenodd;stroke:#00FF00;stroke-width:1.0px;stroke-linecap:butt;stroke-linejoin:miter;stroke-opacity:1\"/>\n",
       "<ellipse cx=\"263.3\" cy=\"90.2\" rx=\"42.6\" ry=\"42.6\" class=\"atom-3\" style=\"fill:#00FF00;fill-rule:evenodd;stroke:#00FF00;stroke-width:1.0px;stroke-linecap:butt;stroke-linejoin:miter;stroke-opacity:1\"/>\n",
       "<path class=\"bond-0 atom-0 atom-1\" d=\"M 65.4,409.8 L 250.0,303.2\" style=\"fill:none;fill-rule:evenodd;stroke:#000000;stroke-width:2.0px;stroke-linecap:butt;stroke-linejoin:miter;stroke-opacity:1\"/>\n",
       "<path class=\"bond-1 atom-1 atom-2\" d=\"M 250.0,303.2 L 434.6,409.8\" style=\"fill:none;fill-rule:evenodd;stroke:#000000;stroke-width:2.0px;stroke-linecap:butt;stroke-linejoin:miter;stroke-opacity:1\"/>\n",
       "<path class=\"bond-2 atom-1 atom-3\" d=\"M 250.0,303.2 L 250.0,111.8\" style=\"fill:none;fill-rule:evenodd;stroke:#000000;stroke-width:2.0px;stroke-linecap:butt;stroke-linejoin:miter;stroke-opacity:1\"/>\n",
       "<path class=\"atom-3\" d=\"M 237.0 90.1 Q 237.0 83.3, 240.4 79.5 Q 243.7 75.7, 250.0 75.7 Q 256.3 75.7, 259.6 79.5 Q 263.0 83.3, 263.0 90.1 Q 263.0 97.0, 259.6 100.9 Q 256.2 104.8, 250.0 104.8 Q 243.8 104.8, 240.4 100.9 Q 237.0 97.0, 237.0 90.1 M 250.0 101.6 Q 254.3 101.6, 256.6 98.7 Q 259.0 95.8, 259.0 90.1 Q 259.0 84.5, 256.6 81.7 Q 254.3 78.9, 250.0 78.9 Q 245.7 78.9, 243.3 81.7 Q 241.0 84.5, 241.0 90.1 Q 241.0 95.8, 243.3 98.7 Q 245.7 101.6, 250.0 101.6 \" fill=\"#000000\"/>\n",
       "<path class=\"atom-3\" d=\"M 267.4 76.0 L 271.2 76.0 L 271.2 88.0 L 285.7 88.0 L 285.7 76.0 L 289.6 76.0 L 289.6 104.3 L 285.7 104.3 L 285.7 91.2 L 271.2 91.2 L 271.2 104.3 L 267.4 104.3 L 267.4 76.0 \" fill=\"#000000\"/>\n",
       "</svg>"
      ],
      "text/plain": [
       "<IPython.core.display.SVG object>"
      ]
     },
     "metadata": {},
     "output_type": "display_data"
    },
    {
     "data": {
      "image/svg+xml": [
       "<svg xmlns=\"http://www.w3.org/2000/svg\" xmlns:rdkit=\"http://www.rdkit.org/xml\" xmlns:xlink=\"http://www.w3.org/1999/xlink\" version=\"1.1\" baseProfile=\"full\" xml:space=\"preserve\" width=\"500px\" height=\"500px\" viewBox=\"0 0 500 500\">\n",
       "<!-- END OF HEADER -->\n",
       "<rect style=\"opacity:1.0;fill:#FFFFFF;stroke:none\" width=\"500.0\" height=\"500.0\" x=\"0.0\" y=\"0.0\"> </rect>\n",
       "<path class=\"bond-0 atom-0 atom-1\" d=\"M 41.1,185.6 L 81.8,231.8 L 79.2,239.5 L 71.3,241.1 L 30.6,194.8 Z\" style=\"fill:#3F003F;fill-rule:evenodd;fill-opacity:1;stroke:#3F003F;stroke-width:0.0px;stroke-linecap:butt;stroke-linejoin:miter;stroke-opacity:1;\"/>\n",
       "<path class=\"bond-1 atom-1 atom-2\" d=\"M 79.2,239.5 L 84.5,245.5 L 64.8,303.9 L 51.6,299.4 L 71.3,241.1 Z\" style=\"fill:#3F003F;fill-rule:evenodd;fill-opacity:1;stroke:#3F003F;stroke-width:0.0px;stroke-linecap:butt;stroke-linejoin:miter;stroke-opacity:1;\"/>\n",
       "<path class=\"bond-2 atom-1 atom-3\" d=\"M 146.1,218.9 L 140.9,234.2 L 84.5,245.5 L 79.2,239.5 L 81.8,231.8 Z\" style=\"fill:#3F003F;fill-rule:evenodd;fill-opacity:1;stroke:#3F003F;stroke-width:0.0px;stroke-linecap:butt;stroke-linejoin:miter;stroke-opacity:1;\"/>\n",
       "<path class=\"bond-3 atom-3 atom-4\" d=\"M 146.1,218.9 L 189.4,268.2 L 184.3,283.5 L 140.9,234.2 Z\" style=\"fill:#3F003F;fill-rule:evenodd;fill-opacity:1;stroke:#3F003F;stroke-width:0.0px;stroke-linecap:butt;stroke-linejoin:miter;stroke-opacity:1;\"/>\n",
       "<path class=\"bond-4 atom-4 atom-5\" d=\"M 245.8,256.8 L 251.2,262.9 L 248.6,270.6 L 184.3,283.5 L 189.4,268.2 Z\" style=\"fill:#3F003F;fill-rule:evenodd;fill-opacity:1;stroke:#3F003F;stroke-width:0.0px;stroke-linecap:butt;stroke-linejoin:miter;stroke-opacity:1;\"/>\n",
       "<path class=\"bond-5 atom-5 atom-6\" d=\"M 266.8,194.7 L 277.5,206.8 L 259.1,261.3 L 251.2,262.9 L 245.8,256.8 Z\" style=\"fill:#3F003F;fill-rule:evenodd;fill-opacity:1;stroke:#3F003F;stroke-width:0.0px;stroke-linecap:butt;stroke-linejoin:miter;stroke-opacity:1;\"/>\n",
       "<path class=\"bond-11 atom-5 atom-10\" d=\"M 259.1,261.3 L 297.1,304.5 L 291.9,319.8 L 248.6,270.6 L 251.2,262.9 Z\" style=\"fill:#3F003F;fill-rule:evenodd;fill-opacity:1;stroke:#3F003F;stroke-width:0.0px;stroke-linecap:butt;stroke-linejoin:miter;stroke-opacity:1;\"/>\n",
       "<path class=\"bond-6 atom-6 atom-7\" d=\"M 339.1,180.2 L 333.9,195.5 L 277.5,206.8 L 266.8,194.7 Z\" style=\"fill:#3F003F;fill-rule:evenodd;fill-opacity:1;stroke:#3F003F;stroke-width:0.0px;stroke-linecap:butt;stroke-linejoin:miter;stroke-opacity:1;\"/>\n",
       "<path class=\"bond-7 atom-7 atom-8\" d=\"M 339.1,180.2 L 382.4,229.4 L 379.8,237.1 L 371.9,238.7 L 333.9,195.5 Z\" style=\"fill:#3F003F;fill-rule:evenodd;fill-opacity:1;stroke:#3F003F;stroke-width:0.0px;stroke-linecap:butt;stroke-linejoin:miter;stroke-opacity:1;\"/>\n",
       "<path class=\"bond-8 atom-8 atom-9\" d=\"M 379.8,237.1 L 385.2,243.2 L 364.2,305.3 L 353.5,293.2 L 371.9,238.7 Z\" style=\"fill:#3F003F;fill-rule:evenodd;fill-opacity:1;stroke:#3F003F;stroke-width:0.0px;stroke-linecap:butt;stroke-linejoin:miter;stroke-opacity:1;\"/>\n",
       "<path class=\"bond-10 atom-8 atom-11\" d=\"M 442.8,217.3 L 445.5,231.0 L 385.2,243.2 L 379.8,237.1 L 382.4,229.4 Z\" style=\"fill:#3F003F;fill-rule:evenodd;fill-opacity:1;stroke:#3F003F;stroke-width:0.0px;stroke-linecap:butt;stroke-linejoin:miter;stroke-opacity:1;\"/>\n",
       "<path class=\"bond-9 atom-9 atom-10\" d=\"M 353.5,293.2 L 364.2,305.3 L 291.9,319.8 L 297.1,304.5 Z\" style=\"fill:#3F003F;fill-rule:evenodd;fill-opacity:1;stroke:#3F003F;stroke-width:0.0px;stroke-linecap:butt;stroke-linejoin:miter;stroke-opacity:1;\"/>\n",
       "<ellipse cx=\"35.8\" cy=\"190.2\" rx=\"13.1\" ry=\"13.1\" class=\"atom-0\" style=\"fill:#3F003F;fill-rule:evenodd;stroke:#3F003F;stroke-width:1.0px;stroke-linecap:butt;stroke-linejoin:miter;stroke-opacity:1\"/>\n",
       "<ellipse cx=\"79.2\" cy=\"239.5\" rx=\"13.1\" ry=\"13.1\" class=\"atom-1\" style=\"fill:#3F003F;fill-rule:evenodd;stroke:#3F003F;stroke-width:1.0px;stroke-linecap:butt;stroke-linejoin:miter;stroke-opacity:1\"/>\n",
       "<ellipse cx=\"58.2\" cy=\"301.6\" rx=\"13.1\" ry=\"13.1\" class=\"atom-2\" style=\"fill:#3F003F;fill-rule:evenodd;stroke:#3F003F;stroke-width:1.0px;stroke-linecap:butt;stroke-linejoin:miter;stroke-opacity:1\"/>\n",
       "<ellipse cx=\"143.5\" cy=\"226.6\" rx=\"13.1\" ry=\"13.1\" class=\"atom-3\" style=\"fill:#3F003F;fill-rule:evenodd;stroke:#3F003F;stroke-width:1.0px;stroke-linecap:butt;stroke-linejoin:miter;stroke-opacity:1\"/>\n",
       "<ellipse cx=\"186.9\" cy=\"275.8\" rx=\"13.1\" ry=\"13.1\" class=\"atom-4\" style=\"fill:#3F003F;fill-rule:evenodd;stroke:#3F003F;stroke-width:1.0px;stroke-linecap:butt;stroke-linejoin:miter;stroke-opacity:1\"/>\n",
       "<ellipse cx=\"251.2\" cy=\"262.9\" rx=\"13.1\" ry=\"13.1\" class=\"atom-5\" style=\"fill:#3F003F;fill-rule:evenodd;stroke:#3F003F;stroke-width:1.0px;stroke-linecap:butt;stroke-linejoin:miter;stroke-opacity:1\"/>\n",
       "<ellipse cx=\"272.2\" cy=\"200.7\" rx=\"13.1\" ry=\"13.1\" class=\"atom-6\" style=\"fill:#3F003F;fill-rule:evenodd;stroke:#3F003F;stroke-width:1.0px;stroke-linecap:butt;stroke-linejoin:miter;stroke-opacity:1\"/>\n",
       "<ellipse cx=\"336.5\" cy=\"187.8\" rx=\"13.1\" ry=\"13.1\" class=\"atom-7\" style=\"fill:#3F003F;fill-rule:evenodd;stroke:#3F003F;stroke-width:1.0px;stroke-linecap:butt;stroke-linejoin:miter;stroke-opacity:1\"/>\n",
       "<ellipse cx=\"379.8\" cy=\"237.1\" rx=\"13.1\" ry=\"13.1\" class=\"atom-8\" style=\"fill:#3F003F;fill-rule:evenodd;stroke:#3F003F;stroke-width:1.0px;stroke-linecap:butt;stroke-linejoin:miter;stroke-opacity:1\"/>\n",
       "<ellipse cx=\"358.9\" cy=\"299.3\" rx=\"13.1\" ry=\"13.1\" class=\"atom-9\" style=\"fill:#3F003F;fill-rule:evenodd;stroke:#3F003F;stroke-width:1.0px;stroke-linecap:butt;stroke-linejoin:miter;stroke-opacity:1\"/>\n",
       "<ellipse cx=\"294.5\" cy=\"312.2\" rx=\"13.1\" ry=\"13.1\" class=\"atom-10\" style=\"fill:#3F003F;fill-rule:evenodd;stroke:#3F003F;stroke-width:1.0px;stroke-linecap:butt;stroke-linejoin:miter;stroke-opacity:1\"/>\n",
       "<ellipse cx=\"452.9\" cy=\"224.3\" rx=\"24.4\" ry=\"13.5\" class=\"atom-11\" style=\"fill:#3F003F;fill-rule:evenodd;stroke:#3F003F;stroke-width:1.0px;stroke-linecap:butt;stroke-linejoin:miter;stroke-opacity:1\"/>\n",
       "<path class=\"bond-0 atom-0 atom-1\" d=\"M 35.8,190.2 L 79.2,239.5\" style=\"fill:none;fill-rule:evenodd;stroke:#000000;stroke-width:2.0px;stroke-linecap:butt;stroke-linejoin:miter;stroke-opacity:1\"/>\n",
       "<path class=\"bond-1 atom-1 atom-2\" d=\"M 75.4,235.2 L 53.5,300.0\" style=\"fill:none;fill-rule:evenodd;stroke:#000000;stroke-width:2.0px;stroke-linecap:butt;stroke-linejoin:miter;stroke-opacity:1\"/>\n",
       "<path class=\"bond-1 atom-1 atom-2\" d=\"M 84.8,238.3 L 62.9,303.2\" style=\"fill:none;fill-rule:evenodd;stroke:#000000;stroke-width:2.0px;stroke-linecap:butt;stroke-linejoin:miter;stroke-opacity:1\"/>\n",
       "<path class=\"bond-2 atom-1 atom-3\" d=\"M 79.2,239.5 L 143.5,226.6\" style=\"fill:none;fill-rule:evenodd;stroke:#000000;stroke-width:2.0px;stroke-linecap:butt;stroke-linejoin:miter;stroke-opacity:1\"/>\n",
       "<path class=\"bond-3 atom-3 atom-4\" d=\"M 143.5,226.6 L 186.9,275.8\" style=\"fill:none;fill-rule:evenodd;stroke:#000000;stroke-width:2.0px;stroke-linecap:butt;stroke-linejoin:miter;stroke-opacity:1\"/>\n",
       "<path class=\"bond-4 atom-4 atom-5\" d=\"M 186.9,275.8 L 251.2,262.9\" style=\"fill:none;fill-rule:evenodd;stroke:#000000;stroke-width:2.0px;stroke-linecap:butt;stroke-linejoin:miter;stroke-opacity:1\"/>\n",
       "<path class=\"bond-5 atom-5 atom-6\" d=\"M 251.2,262.9 L 272.2,200.7\" style=\"fill:none;fill-rule:evenodd;stroke:#000000;stroke-width:2.0px;stroke-linecap:butt;stroke-linejoin:miter;stroke-opacity:1\"/>\n",
       "<path class=\"bond-5 atom-5 atom-6\" d=\"M 262.3,260.7 L 279.7,209.3\" style=\"fill:none;fill-rule:evenodd;stroke:#000000;stroke-width:2.0px;stroke-linecap:butt;stroke-linejoin:miter;stroke-opacity:1\"/>\n",
       "<path class=\"bond-6 atom-6 atom-7\" d=\"M 272.2,200.7 L 336.5,187.8\" style=\"fill:none;fill-rule:evenodd;stroke:#000000;stroke-width:2.0px;stroke-linecap:butt;stroke-linejoin:miter;stroke-opacity:1\"/>\n",
       "<path class=\"bond-7 atom-7 atom-8\" d=\"M 336.5,187.8 L 379.8,237.1\" style=\"fill:none;fill-rule:evenodd;stroke:#000000;stroke-width:2.0px;stroke-linecap:butt;stroke-linejoin:miter;stroke-opacity:1\"/>\n",
       "<path class=\"bond-7 atom-7 atom-8\" d=\"M 332.9,198.6 L 368.7,239.3\" style=\"fill:none;fill-rule:evenodd;stroke:#000000;stroke-width:2.0px;stroke-linecap:butt;stroke-linejoin:miter;stroke-opacity:1\"/>\n",
       "<path class=\"bond-8 atom-8 atom-9\" d=\"M 379.8,237.1 L 358.9,299.3\" style=\"fill:none;fill-rule:evenodd;stroke:#000000;stroke-width:2.0px;stroke-linecap:butt;stroke-linejoin:miter;stroke-opacity:1\"/>\n",
       "<path class=\"bond-9 atom-9 atom-10\" d=\"M 358.9,299.3 L 294.5,312.2\" style=\"fill:none;fill-rule:evenodd;stroke:#000000;stroke-width:2.0px;stroke-linecap:butt;stroke-linejoin:miter;stroke-opacity:1\"/>\n",
       "<path class=\"bond-9 atom-9 atom-10\" d=\"M 351.3,290.7 L 298.2,301.4\" style=\"fill:none;fill-rule:evenodd;stroke:#000000;stroke-width:2.0px;stroke-linecap:butt;stroke-linejoin:miter;stroke-opacity:1\"/>\n",
       "<path class=\"bond-10 atom-8 atom-11\" d=\"M 379.8,237.1 L 433.5,226.3\" style=\"fill:none;fill-rule:evenodd;stroke:#000000;stroke-width:2.0px;stroke-linecap:butt;stroke-linejoin:miter;stroke-opacity:1\"/>\n",
       "<path class=\"bond-11 atom-10 atom-5\" d=\"M 294.5,312.2 L 251.2,262.9\" style=\"fill:none;fill-rule:evenodd;stroke:#000000;stroke-width:2.0px;stroke-linecap:butt;stroke-linejoin:miter;stroke-opacity:1\"/>\n",
       "<path d=\"M 77.0,237.0 L 79.2,239.5 L 82.4,238.8\" style=\"fill:none;stroke:#000000;stroke-width:2.0px;stroke-linecap:butt;stroke-linejoin:miter;stroke-opacity:1;\"/>\n",
       "<path d=\"M 140.3,227.2 L 143.5,226.6 L 145.7,229.0\" style=\"fill:none;stroke:#000000;stroke-width:2.0px;stroke-linecap:butt;stroke-linejoin:miter;stroke-opacity:1;\"/>\n",
       "<path d=\"M 184.7,273.3 L 186.9,275.8 L 190.1,275.2\" style=\"fill:none;stroke:#000000;stroke-width:2.0px;stroke-linecap:butt;stroke-linejoin:miter;stroke-opacity:1;\"/>\n",
       "<path d=\"M 271.1,203.9 L 272.2,200.7 L 275.4,200.1\" style=\"fill:none;stroke:#000000;stroke-width:2.0px;stroke-linecap:butt;stroke-linejoin:miter;stroke-opacity:1;\"/>\n",
       "<path d=\"M 333.3,188.5 L 336.5,187.8 L 338.7,190.3\" style=\"fill:none;stroke:#000000;stroke-width:2.0px;stroke-linecap:butt;stroke-linejoin:miter;stroke-opacity:1;\"/>\n",
       "<path d=\"M 359.9,296.1 L 358.9,299.3 L 355.6,299.9\" style=\"fill:none;stroke:#000000;stroke-width:2.0px;stroke-linecap:butt;stroke-linejoin:miter;stroke-opacity:1;\"/>\n",
       "<path d=\"M 297.7,311.5 L 294.5,312.2 L 292.4,309.7\" style=\"fill:none;stroke:#000000;stroke-width:2.0px;stroke-linecap:butt;stroke-linejoin:miter;stroke-opacity:1;\"/>\n",
       "<path class=\"atom-11\" d=\"M 435.6 224.2 Q 435.6 219.8, 437.8 217.3 Q 440.0 214.8, 444.2 214.8 Q 448.3 214.8, 450.5 217.3 Q 452.7 219.8, 452.7 224.2 Q 452.7 228.8, 450.5 231.3 Q 448.2 233.9, 444.2 233.9 Q 440.1 233.9, 437.8 231.3 Q 435.6 228.8, 435.6 224.2 M 444.2 231.8 Q 447.0 231.8, 448.5 229.9 Q 450.1 228.0, 450.1 224.2 Q 450.1 220.6, 448.5 218.8 Q 447.0 216.9, 444.2 216.9 Q 441.3 216.9, 439.8 218.7 Q 438.3 220.6, 438.3 224.2 Q 438.3 228.0, 439.8 229.9 Q 441.3 231.8, 444.2 231.8 \" fill=\"#000000\"/>\n",
       "<path class=\"atom-11\" d=\"M 455.6 215.0 L 458.1 215.0 L 458.1 222.9 L 467.6 222.9 L 467.6 215.0 L 470.1 215.0 L 470.1 233.6 L 467.6 233.6 L 467.6 225.0 L 458.1 225.0 L 458.1 233.6 L 455.6 233.6 L 455.6 215.0 \" fill=\"#000000\"/>\n",
       "</svg>"
      ],
      "text/plain": [
       "<IPython.core.display.SVG object>"
      ]
     },
     "metadata": {},
     "output_type": "display_data"
    },
    {
     "name": "stderr",
     "output_type": "stream",
     "text": [
      "ok\n",
      "\n",
      "----------------------------------------------------------------------\n",
      "Ran 1 test in 0.015s\n",
      "\n",
      "OK\n"
     ]
    }
   ],
   "source": [
    "\n",
    "import sys\n",
    "import os\n",
    "sys.path.append(os.path.abspath('../src'))\n",
    "\n",
    "import unittest\n",
    "import pandas as pd\n",
    "from rdkit import Chem\n",
    "from rdkit.Chem import AllChem\n",
    "from Proj_VCB.functions.visualizing import visualize_molecules_for_cream\n",
    "\n",
    "class TestVisualizingFunctions(unittest.TestCase):\n",
    "\n",
    "    def setUp(self):\n",
    "        data = {\n",
    "            'Cream': ['Cream A', 'Cream A', 'Cream B', 'Cream C'],\n",
    "            'Smiles': ['CC(C)O', 'CC(=C)CCC1=CC=C(C=C1)O', 'CC(C)CCC(C)CO', 'CC1=CC[C@H](C=C1)C(C)C']\n",
    "        }\n",
    "        self.df = pd.DataFrame(data)\n",
    "    \n",
    "    def test_visualize_molecules_for_cream(self):\n",
    "        try:\n",
    "            visualize_molecules_for_cream(self.df, 'Cream A')\n",
    "        except Exception as e:\n",
    "            self.fail(f\"visualize_molecules_for_cream raised Exception unexpectedly: {e}\")\n",
    "\n",
    "if __name__ == '__main__':\n",
    "    unittest.main(argv=[''], verbosity=2, exit=False)\n"
   ]
  },
  {
   "cell_type": "code",
   "execution_count": null,
   "id": "51d35a94-95ff-4311-9eba-65142f5d8143",
   "metadata": {},
   "outputs": [],
   "source": []
  }
 ],
 "metadata": {
  "kernelspec": {
   "display_name": "Python 3 (ipykernel)",
   "language": "python",
   "name": "python3"
  },
  "language_info": {
   "codemirror_mode": {
    "name": "ipython",
    "version": 3
   },
   "file_extension": ".py",
   "mimetype": "text/x-python",
   "name": "python",
   "nbconvert_exporter": "python",
   "pygments_lexer": "ipython3",
   "version": "3.10.13"
  }
 },
 "nbformat": 4,
 "nbformat_minor": 5
}
