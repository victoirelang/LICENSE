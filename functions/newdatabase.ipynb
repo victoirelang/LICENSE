{
 "cells": [
  {
   "cell_type": "code",
   "execution_count": null,
   "id": "2fea2147-a3dc-41d4-aba2-c746c2173daa",
   "metadata": {},
   "outputs": [],
   "source": [
    "import pandas as pd\n",
    "\n",
    "def new_database_no_Isopropyl(database, column_name=\"Cream\", excluded_value=\"La Rosée\"):\n",
    "    \"\"\"\n",
    "    Exclut les lignes du DataFrame où la colonne spécifiée contient la valeur spécifiée.\n",
    "\n",
    "    Parameters:\n",
    "    - database (pd.DataFrame): Le DataFrame à filtrer.\n",
    "    - column_name (str): Nom de la colonne sur laquelle appliquer le filtre. Par défaut, 'Cream'.\n",
    "    - excluded_value (str): Valeur à exclure dans la colonne spécifiée. Par défaut, 'La Rosée'.\n",
    "\n",
    "    Returns:\n",
    "    - pd.DataFrame: Un nouveau DataFrame excluant les lignes où la colonne spécifiée contient la valeur exclue.\n",
    "\n",
    "    Example:\n",
    "    >>> db = pd.DataFrame({'Cream': ['La Rosée', 'Nivea', 'La Rosée', 'Dove']})\n",
    "    >>> filtered_db = exclude_entries(db)\n",
    "    >>> print(filtered_db)\n",
    "      Cream\n",
    "    1  Nivea\n",
    "    3  Dove\n",
    "    \"\"\"\n",
    "    database_filtered_1= database[database[column_name] != excluded_value]\n",
    "    return database_filtered_1"
   ]
  },
  {
   "cell_type": "code",
   "execution_count": null,
   "id": "263f7f15-567c-4cdb-84a0-6c9e620d9e56",
   "metadata": {},
   "outputs": [],
   "source": [
    "import pandas as pd\n",
    "\n",
    "def new_database_no_NaOH(database_filtered_1, column_name, excluded_values=\"Nivea\"):\n",
    "    \"\"\"\n",
    "    Exclut les lignes du DataFrame où la colonne spécifiée contient une des valeurs spécifiées.\n",
    "\n",
    "    Parameters:\n",
    "    - database (pd.DataFrame): Le DataFrame à filtrer.\n",
    "    - column_name (str): Nom de la colonne sur laquelle appliquer le filtre.\n",
    "    - excluded_values (list): Liste des valeurs à exclure dans la colonne spécifiée.\n",
    "\n",
    "    Returns:\n",
    "    - pd.DataFrame: Un nouveau DataFrame excluant les lignes où la colonne spécifiée contient une des valeurs exclues.\n",
    "    \"\"\"\n",
    "    database_filtered_2= database_filtered_1[database_filtered_1[column_name].isin(excluded_values)]\n",
    "    return database_filtered_2\n"
   ]
  }
 ],
 "metadata": {
  "kernelspec": {
   "display_name": "Python 3 (ipykernel)",
   "language": "python",
   "name": "python3"
  },
  "language_info": {
   "codemirror_mode": {
    "name": "ipython",
    "version": 3
   },
   "file_extension": ".py",
   "mimetype": "text/x-python",
   "name": "python",
   "nbconvert_exporter": "python",
   "pygments_lexer": "ipython3",
   "version": "3.10.13"
  }
 },
 "nbformat": 4,
 "nbformat_minor": 5
}
