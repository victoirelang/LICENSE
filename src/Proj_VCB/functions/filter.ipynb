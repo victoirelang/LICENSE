{
 "cells": [
  {
   "cell_type": "code",
   "execution_count": 1,
   "id": "2e5ffecc-edc0-4fc9-92e6-91a1e459fed8",
   "metadata": {},
   "outputs": [],
   "source": [
    "import pandas as pd\n",
    "\n",
    "def filter_Isopropyl(database, column_name=\"Molecule\", keyword=\"Isopropyl\"):\n",
    "    \"\"\"Filters the DataFrame to include only the rows where the specified column contains the given keyword.\n",
    "\n",
    "    Parameters:\n",
    "    - database (pd.DataFrame): The DataFrame to filter.\n",
    "    - column_name (str): Name of the column to apply the filter on. Default is 'Molecule'.\n",
    "    - keyword (str): The keyword to search for in the specified column. Default is 'Isopropyl'.\n",
    "\n",
    "    Returns:\n",
    "    - pd.DataFrame: A new DataFrame containing only the rows where the specified column contains the keyword.\n",
    "\n",
    "    Example:\n",
    "    >>> db = pd.DataFrame({'Molecule': ['Isopropyl alcohol', 'Ethanol', 'Isopropyl acetate', 'Water']})\n",
    "    >>> filtered_db = filter_for_keyword(db)\n",
    "    >>> print(filtered_db)\n",
    "               Molecule\n",
    "    0  Isopropyl alcohol\n",
    "    2  Isopropyl acetate\n",
    "    \"\"\"\n",
    "    database_contains_Isopropyl= database[database[column_name].str.contains(keyword, na=False)]\n",
    "    return database_contains_Isopropyl\n",
    "\n"
   ]
  },
  {
   "cell_type": "code",
   "execution_count": 1,
   "id": "e6a37c31-28eb-4be2-8e8d-7caf87f528c0",
   "metadata": {},
   "outputs": [],
   "source": [
    "\n"
   ]
  },
  {
   "cell_type": "code",
   "execution_count": 3,
   "id": "617d3a6a-4d49-462b-b7ad-9ce546db3806",
   "metadata": {},
   "outputs": [],
   "source": [
    "import pandas as pd\n",
    "\n",
    "def filter_NaOH(database_filtered_1, column_name=\"Molecule\", keyword=\"Sodium Hydroxide\"):\n",
    "    \"\"\"\n",
    "    Filters the DataFrame to include only the rows where the specified column contains the given string.\n",
    "\n",
    "    Parameters:\n",
    "    - database (pd.DataFrame): The DataFrame to filter.\n",
    "    - column_name (str): Name of the column to apply the search criterion on. Default is 'Molecule'.\n",
    "    - keyword (str): The string to search for in the specified column. Default is 'Sodium Hydroxide'.\n",
    "\n",
    "    Returns:\n",
    "    - pd.DataFrame: A new DataFrame containing only the rows where the specified column contains the search string.\n",
    "\n",
    "    Example:\n",
    "    >>> db = pd.DataFrame({'Molecule': ['Sodium Hydroxide', 'Water', 'Sodium Chloride', 'Sodium Hydroxide solution']})\n",
    "    >>> filtered_db = filter_contains(db)\n",
    "    >>> print(filtered_db)\n",
    "                         Molecule\n",
    "    0           Sodium Hydroxide\n",
    "    3  Sodium Hydroxide solution\n",
    "    \"\"\"\n",
    "    database_contains_NaOH= database_filtered_1[database_filtered_1[column_name].str.contains(keyword, na=False)]\n",
    "    return database_contains_NaOH\n"
   ]
  },
  {
   "cell_type": "code",
   "execution_count": 4,
   "id": "d6dbe6b2-a279-4f7f-a01e-5715bb5b1583",
   "metadata": {},
   "outputs": [],
   "source": [
    "\n"
   ]
  },
  {
   "cell_type": "code",
   "execution_count": null,
   "id": "46446858-129a-4fce-bde2-35bf27adf581",
   "metadata": {},
   "outputs": [],
   "source": [
    "import pandas as pd\n",
    "\n",
    "def filter_allother(database, column_name=\"Molecule\", keywords=\"Linalool|Citronellol|Limonene|Benzyl Alcohol|Benzyl Salicylate\"):\n",
    "    \"\"\"\n",
    "    Filters the DataFrame to include only the rows where the specified column contains \n",
    "    any of the given keywords. Keywords are separated by vertical bars, indicating a logical OR in the search.\n",
    "\n",
    "    Parameters:\n",
    "    - database (pd.DataFrame): The DataFrame to filter.\n",
    "    - column_name (str): Name of the column to search for the keywords.\n",
    "    - keywords (str): The keywords to search for, separated by '|'.\n",
    "\n",
    "    Returns:\n",
    "    - pd.DataFrame: A new DataFrame containing only the rows where the specified column contains any of the specified keywords.\n",
    "    \"\"\"\n",
    "    # Use the str.contains method to filter the data\n",
    "    database_filtered_2=database[database[column_name].str.contains(keywords, na=False)]\n",
    "    return database_filtered_2\n",
    "\n"
   ]
  }
 ],
 "metadata": {
  "kernelspec": {
   "display_name": "Python 3 (ipykernel)",
   "language": "python",
   "name": "python3"
  },
  "language_info": {
   "codemirror_mode": {
    "name": "ipython",
    "version": 3
   },
   "file_extension": ".py",
   "mimetype": "text/x-python",
   "name": "python",
   "nbconvert_exporter": "python",
   "pygments_lexer": "ipython3",
   "version": "3.10.13"
  }
 },
 "nbformat": 4,
 "nbformat_minor": 5
}
