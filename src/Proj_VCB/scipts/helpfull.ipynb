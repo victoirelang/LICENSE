{
 "cells": [
  {
   "cell_type": "code",
   "execution_count": null,
   "id": "77172857-e5a9-45cb-9ca3-db6a18b53fc0",
   "metadata": {},
   "outputs": [],
   "source": [
    "from rdkit import Chem\n",
    "from rdkit.Chem.Draw import IPythonConsole\n",
    "IPythonConsole.ipython_useSVG=True\n",
    "\n"
   ]
  },
  {
   "cell_type": "code",
   "execution_count": null,
   "id": "cef44202-1430-4710-8951-d952d3cc810f",
   "metadata": {},
   "outputs": [],
   "source": [
    "butanol = \"CCCO\"\n",
    "tertbutanol = \"C(C)(C)(C)(O)\"\n",
    "vanillin = \"c1(O)c(OC)cc(C=O)cc1\"\n",
    "\n",
    "Chem.MolFromSmiles(vanillin)\n",
    "\n",
    "aspirin_smiles = \"CC(=O)OC1=CC=CC=C1C(=O)O\"\n",
    "aspirin = Chem.MolFromSmiles(aspirin_smiles)\n",
    "print(\"InChI: \", Chem.MolToInchi(aspirin))\n",
    "print(\"InChI Key: \", Chem.InchiToInchiKey(Chem.MolToInchi(aspirin)))\n"
   ]
  },
  {
   "cell_type": "code",
   "execution_count": null,
   "id": "4d7163fa-d199-4b84-8bef-9ab8fc9e6ea6",
   "metadata": {},
   "outputs": [],
   "source": [
    "aspirin_smiles = \"CC(=O)OC1=CC=CC=C1C(=O)O\"\n",
    "aspirin = Chem.MolFromSmiles(aspirin_smiles)\n",
    "print(\"InChI: \", Chem.MolToInchi(aspirin))\n",
    "print(\"InChI Key: \", Chem.InchiToInchiKey(Chem.MolToInchi(aspirin)))\n",
    "\n",
    "aspirin_inchi = \"InChI=1S/C9H8O4/c1-6(10)13-8-5-3-2-4-7(8)9(11)12/h2-5H,1H3,(H,11,12)\"\n",
    "aspirin = Chem.MolFromInchi(aspirin_inchi)\n",
    "aspirin"
   ]
  },
  {
   "cell_type": "code",
   "execution_count": null,
   "id": "11e2884e-fe1a-4129-94f6-ba88edbd2129",
   "metadata": {},
   "outputs": [],
   "source": [
    "butanol = \"CCCO\"\n",
    "tertbutanol = \"C(C)(C)(C)(O)\"\n",
    "vanillin = \"c1(O)c(OC)cc(C=O)cc1\"\n",
    "\n",
    "Chem.MolFromSmiles(vanillin)"
   ]
  },
  {
   "cell_type": "code",
   "execution_count": null,
   "id": "8f97995e-965e-45e0-89e2-a45b21af3104",
   "metadata": {},
   "outputs": [],
   "source": []
  },
  {
   "cell_type": "code",
   "execution_count": null,
   "id": "7cf886e3-3f4c-419a-a563-1848a0c56266",
   "metadata": {},
   "outputs": [],
   "source": [
    "# remove the rows with NaN values\n",
    "df = df.dropna(subset=[\"Smiles\"])"
   ]
  },
  {
   "cell_type": "code",
   "execution_count": null,
   "id": "3b5370b7-8d67-4182-90d7-a2873ac1a0ec",
   "metadata": {},
   "outputs": [],
   "source": [
    "indazole_smi = \"c1cc2c(cc1)C=NNtest_mol = df[\"mol\"][0]\n",
    "test_mol2\"\n",
    "indazole = Chem.MolFromSmiles(indazole_smi)\n",
    "indazole\n"
   ]
  },
  {
   "cell_type": "code",
   "execution_count": null,
   "id": "85975f9c-ce3f-4017-826a-3009b1565c14",
   "metadata": {},
   "outputs": [],
   "source": [
    "test_mol = df[\"mol\"][0]\n",
    "test_mol"
   ]
  },
  {
   "cell_type": "code",
   "execution_count": null,
   "id": "fc7c0604-1778-4071-9912-e8c5d025e7c0",
   "metadata": {},
   "outputs": [],
   "source": [
    "test_mol.HasSubstructMatch(indazole)"
   ]
  },
  {
   "cell_type": "code",
   "execution_count": null,
   "id": "17e63de8-2cf7-4f20-932e-5e3b0be7fba7",
   "metadata": {},
   "outputs": [],
   "source": [
    "# 1) only keep those with the motif\n",
    "df_fil = df[df['has_indazole']]\n",
    "df_fil.head()"
   ]
  },
  {
   "cell_type": "code",
   "execution_count": null,
   "id": "8af43873-ef6b-4f43-b12f-714bd1a1c47c",
   "metadata": {},
   "outputs": [],
   "source": [
    "# 2) only keep tyrosine kinase inhibitors\n",
    "tki = df_fil[df_fil['USAN Definition'].str.contains(\"tyrosine kinase inhibitor\")]\n",
    "tki"
   ]
  },
  {
   "cell_type": "code",
   "execution_count": null,
   "id": "5506919e-d232-40d0-b50f-f5109df8c9f9",
   "metadata": {},
   "outputs": [],
   "source": [
    "# visualize the remaining TKI structures using the PandasTools.FrameToGridImage function\n",
    "PandasTools.FrameToGridImage(tki, column='mol', legendsCol=\"USAN Definition\", molsPerRow=3, subImgSize=(350, 300))"
   ]
  },
  {
   "cell_type": "code",
   "execution_count": null,
   "id": "9d0f1a40-6e17-4ba6-9406-2d26cc590a84",
   "metadata": {},
   "outputs": [],
   "source": [
    "#  highlight the indazole motif using the Draw.MolToImage function\n",
    "from rdkit.Chem import Draw\n",
    "img = Draw.MolToImage(mol, highlightAtoms=match_indices)\n",
    "img"
   ]
  },
  {
   "cell_type": "code",
   "execution_count": null,
   "id": "115bf48d-bfe7-444f-9538-83d63ac10551",
   "metadata": {},
   "outputs": [],
   "source": [
    "s_thalidomide = Chem.MolFromSmiles('O=C1c2ccccc2C(=O)N1[C@H]3CCC(=O)NC3=O')\n",
    "s_thalidomide\n",
    "# find the Thalidomide molecule object in the dataframe\n",
    "thalidomide= df[df[\"Name\"] == \"THALIDOMIDE\"]['mol'].values[0]\n",
    "type(thalidomide)\n",
    "# check if the Thalidomide molecule object has the S motif using the HasSubstructMatch function\n",
    "thalidomide.HasSubstructMatch(s_thalidomide)\n",
    "thalidomide.HasSubstructMatch(s_thalidomide, useChirality=True)\n",
    "from rdkit.Chem import rdFMCS\n",
    "tki_mols = tki['mol'].tolist()\n",
    "tki_mols[0]\n"
   ]
  },
  {
   "cell_type": "code",
   "execution_count": null,
   "id": "e5906b8f-c8a4-4731-bf54-63e2f8038ccd",
   "metadata": {},
   "outputs": [],
   "source": [
    "# extract all TKI molecules from the dataframe\n",
    "tki_all = df[df['USAN Definition'].str.contains(\"tyrosine kinase inhibitor\")]\n",
    "mols_all = tki_all['mol'].tolist()\n",
    "len(tki_all)"
   ]
  },
  {
   "cell_type": "code",
   "execution_count": null,
   "id": "f18f38ed-a771-4bd0-b242-f6da6130b184",
   "metadata": {},
   "outputs": [],
   "source": []
  },
  {
   "cell_type": "code",
   "execution_count": null,
   "id": "620e761f-7e7c-4eb1-b754-76e8e29914e2",
   "metadata": {},
   "outputs": [],
   "source": []
  },
  {
   "cell_type": "code",
   "execution_count": null,
   "id": "1fbe0b50-5ca9-4a6a-a071-dd9b8ad583f9",
   "metadata": {},
   "outputs": [],
   "source": [
    "import pandas as pd\n",
    "\n",
    "# Specify the correct file path\n",
    "file_path = \"../exercices/week 5/chembl_drugs.csv\"\n",
    "\n",
    "# Read the CSV file using Pandas\n",
    "drugs = pd.read_csv(file_path, sep=';')\n",
    "\n",
    "print(\"Shape:\", drugs.shape)\n",
    "print(\"Columns:\", drugs.columns)"
   ]
  },
  {
   "cell_type": "code",
   "execution_count": null,
   "id": "d6ec3daa-5887-4ccd-89a0-feeea7da26ef",
   "metadata": {},
   "outputs": [],
   "source": [
    "approved_drugs = drugs[(drugs[\"Phase\"] == 4) & (drugs[\"Smiles\"].notnull())]"
   ]
  },
  {
   "cell_type": "code",
   "execution_count": null,
   "id": "992126d4-b09a-4596-ac32-69590d10b3ea",
   "metadata": {},
   "outputs": [],
   "source": [
    "from rdkit.Chem import PandasTools\n",
    "\n",
    "PandasTools.RenderImagesInAllDataFrames(images = True) # needed to render images if you run the cell multiple times\n",
    "\n",
    "PandasTools.AddMoleculeColumnToFrame(approved_drugs, smilesCol = \"Smiles\", molCol = \"RdkitMOL\")"
   ]
  },
  {
   "cell_type": "code",
   "execution_count": null,
   "id": "15dee914-29df-4209-abe3-abba0d8f9cc5",
   "metadata": {},
   "outputs": [],
   "source": [
    "approved_drugs.head(2)"
   ]
  },
  {
   "cell_type": "code",
   "execution_count": null,
   "id": "02d7ab34-4cef-4282-8cad-556bc6026e32",
   "metadata": {},
   "outputs": [],
   "source": [
    "from rdkit import Chem\n",
    "from rdkit.Chem.Draw import IPythonConsole\n",
    "IPythonConsole.ipython_useSVG=True\n"
   ]
  }
 ],
 "metadata": {
  "kernelspec": {
   "display_name": "Python 3 (ipykernel)",
   "language": "python",
   "name": "python3"
  },
  "language_info": {
   "codemirror_mode": {
    "name": "ipython",
    "version": 3
   },
   "file_extension": ".py",
   "mimetype": "text/x-python",
   "name": "python",
   "nbconvert_exporter": "python",
   "pygments_lexer": "ipython3",
   "version": "3.10.13"
  }
 },
 "nbformat": 4,
 "nbformat_minor": 5
}
