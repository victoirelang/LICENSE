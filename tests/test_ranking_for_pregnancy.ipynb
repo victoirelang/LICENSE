{
 "cells": [
  {
   "cell_type": "code",
   "execution_count": 3,
   "id": "765be40c-1e2e-4c6e-90ac-275d48247f27",
   "metadata": {},
   "outputs": [
    {
     "name": "stderr",
     "output_type": "stream",
     "text": [
      "test_dangerous_pregnancy (__main__.TestRankingForPregnancyFunctions) ... ok\n",
      "test_filter_pregnancy_risk (__main__.TestRankingForPregnancyFunctions) ... ok\n",
      "\n",
      "----------------------------------------------------------------------\n",
      "Ran 2 tests in 0.007s\n",
      "\n",
      "OK\n"
     ]
    },
    {
     "name": "stdout",
     "output_type": "stream",
     "text": [
      "Voici le classement des crèmes pour le critère de pregnancy:\n",
      "Data base with molecules dangerous for pregnant women\n"
     ]
    }
   ],
   "source": [
    "import sys\n",
    "import os\n",
    "sys.path.append(os.path.abspath('../src'))\n",
    "\n",
    "import unittest\n",
    "import pandas as pd\n",
    "from Proj_VCB.functions.ranking_for_pregnancy import filter_pregnancy_risk, dangerous_pregnancy\n",
    "\n",
    "class TestRankingForPregnancyFunctions(unittest.TestCase):\n",
    "    def setUp(self):\n",
    "        data = {\n",
    "            'Cream': ['Cream A', 'Cream B', 'Cream C', 'Cream D'],\n",
    "            'Molecule': ['Molecule1', 'Molecule2', 'Molecule3', 'Molecule4'],\n",
    "            'Pregnancy Risk': ['High', 'No', 'Moderate', 'High']\n",
    "        }\n",
    "        self.df = pd.DataFrame(data)\n",
    "        \n",
    "    def test_filter_pregnancy_risk(self):\n",
    "        result = filter_pregnancy_risk(self.df)\n",
    "        self.assertEqual(len(result), 3)\n",
    "        self.assertNotIn('No', result['Pregnancy Risk'].values)\n",
    "        \n",
    "    def test_dangerous_pregnancy(self):\n",
    "        expected_output = {\n",
    "            'Cream B': '0%',\n",
    "            'Cream C': '100.0%',\n",
    "            'Cream A': '100.0%',\n",
    "            'Cream D': '100.0%'\n",
    "        }\n",
    "        result = dangerous_pregnancy(self.df)\n",
    "        self.assertEqual(result, expected_output)\n",
    "\n",
    "\n",
    "\n",
    "if __name__ == '__main__':\n",
    "    unittest.main(argv=[''], verbosity=2, exit=False)\n"
   ]
  },
  {
   "cell_type": "code",
   "execution_count": null,
   "id": "6c3c4ffb-41f5-49c9-b95e-d48e084c8ae4",
   "metadata": {},
   "outputs": [],
   "source": []
  },
  {
   "cell_type": "code",
   "execution_count": null,
   "id": "9d3aea0d-67c1-41cd-a05d-c2bd40039356",
   "metadata": {},
   "outputs": [],
   "source": []
  }
 ],
 "metadata": {
  "kernelspec": {
   "display_name": "Python 3 (ipykernel)",
   "language": "python",
   "name": "python3"
  },
  "language_info": {
   "codemirror_mode": {
    "name": "ipython",
    "version": 3
   },
   "file_extension": ".py",
   "mimetype": "text/x-python",
   "name": "python",
   "nbconvert_exporter": "python",
   "pygments_lexer": "ipython3",
   "version": "3.10.13"
  }
 },
 "nbformat": 4,
 "nbformat_minor": 5
}
