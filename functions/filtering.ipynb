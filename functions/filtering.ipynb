{
 "cells": [
  {
   "cell_type": "code",
   "execution_count": 1,
   "id": "2e5ffecc-edc0-4fc9-92e6-91a1e459fed8",
   "metadata": {},
   "outputs": [],
   "source": [
    "import pandas as pd\n",
    "\n",
    "def filter_Isopropyl(database, column_name=\"Molecule\", keyword=\"Isopropyl\"):\n",
    "    \"\"\"\n",
    "    Filtre le DataFrame pour inclure uniquement les lignes où la colonne spécifiée contient le mot-clé donné.\n",
    "\n",
    "    Parameters:\n",
    "    - database (pd.DataFrame): Le DataFrame à filtrer.\n",
    "    - column_name (str): Nom de la colonne sur laquelle appliquer le filtre. Par défaut, 'Molecule'.\n",
    "    - keyword (str): Le mot-clé à rechercher dans la colonne spécifiée. Par défaut, 'Isopropyl'.\n",
    "\n",
    "    Returns:\n",
    "    - pd.DataFrame: Un nouveau DataFrame contenant uniquement les lignes où la colonne spécifiée contient le mot-clé.\n",
    "\n",
    "    Example:\n",
    "    >>> db = pd.DataFrame({'Molecule': ['Isopropyl alcohol', 'Ethanol', 'Isopropyl acetate', 'Water']})\n",
    "    >>> filtered_db = filter_for_keyword(db)\n",
    "    >>> print(filtered_db)\n",
    "               Molecule\n",
    "    0  Isopropyl alcohol\n",
    "    2  Isopropyl acetate\n",
    "    \"\"\"\n",
    "    database_contains_Isopropyl= database[database[column_name].str.contains(keyword, na=False)]\n",
    "    return database_contains_Isopropyl\n",
    "\n"
   ]
  },
  {
   "cell_type": "code",
   "execution_count": 1,
   "id": "e6a37c31-28eb-4be2-8e8d-7caf87f528c0",
   "metadata": {},
   "outputs": [],
   "source": [
    "\n"
   ]
  },
  {
   "cell_type": "code",
   "execution_count": 3,
   "id": "617d3a6a-4d49-462b-b7ad-9ce546db3806",
   "metadata": {},
   "outputs": [],
   "source": [
    "import pandas as pd\n",
    "\n",
    "def filter_NaOH(database_filtered_1, column_name=\"Molecule\", keyword=\"Sodium Hydroxide\"):\n",
    "    \"\"\"\n",
    "    Filtre le DataFrame pour inclure uniquement les lignes où la colonne spécifiée contient la chaîne spécifiée.\n",
    "\n",
    "    Parameters:\n",
    "    - database (pd.DataFrame): Le DataFrame à filtrer.\n",
    "    - column_name (str): Nom de la colonne sur laquelle appliquer le critère de recherche. Par défaut, 'Molecule'.\n",
    "    - keyword (str): La chaîne de caractères à rechercher dans la colonne spécifiée. Par défaut, 'Sodium Hydroxide'.\n",
    "\n",
    "    Returns:\n",
    "    - pd.DataFrame: Un nouveau DataFrame contenant uniquement les lignes où la colonne spécifiée contient la chaîne de recherche.\n",
    "\n",
    "    Example:\n",
    "    >>> db = pd.DataFrame({'Molecule': ['Sodium Hydroxide', 'Water', 'Sodium Chloride', 'Sodium Hydroxide solution']})\n",
    "    >>> filtered_db = filter_contains(db)\n",
    "    >>> print(filtered_db)\n",
    "                         Molecule\n",
    "    0           Sodium Hydroxide\n",
    "    3  Sodium Hydroxide solution\n",
    "    \"\"\"\n",
    "    database_contains_NaOH= database_filtered_1[database_filtered_1[column_name].str.contains(keyword, na=False)]\n",
    "    return database_contains_NaOH\n"
   ]
  },
  {
   "cell_type": "code",
   "execution_count": 4,
   "id": "d6dbe6b2-a279-4f7f-a01e-5715bb5b1583",
   "metadata": {},
   "outputs": [],
   "source": [
    "\n"
   ]
  },
  {
   "cell_type": "code",
   "execution_count": null,
   "id": "46446858-129a-4fce-bde2-35bf27adf581",
   "metadata": {},
   "outputs": [],
   "source": []
  }
 ],
 "metadata": {
  "kernelspec": {
   "display_name": "Python 3 (ipykernel)",
   "language": "python",
   "name": "python3"
  },
  "language_info": {
   "codemirror_mode": {
    "name": "ipython",
    "version": 3
   },
   "file_extension": ".py",
   "mimetype": "text/x-python",
   "name": "python",
   "nbconvert_exporter": "python",
   "pygments_lexer": "ipython3",
   "version": "3.10.13"
  }
 },
 "nbformat": 4,
 "nbformat_minor": 5
}
