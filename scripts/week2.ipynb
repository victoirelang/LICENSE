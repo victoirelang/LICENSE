{
 "cells": [
  {
   "cell_type": "code",
   "execution_count": null,
   "id": "3c06eb44-09d9-4d59-83f5-8392b0e6fa8d",
   "metadata": {},
   "outputs": [],
   "source": [
    "from rdkit import Chem\n",
    "from rdkit.Chem.Draw import IPythonConsole\n",
    "IPythonConsole.ipython_useSVG=True\n"
   ]
  },
  {
   "cell_type": "code",
   "execution_count": null,
   "id": "47d1fada-a9fb-4f7d-b1c8-61c876ac3312",
   "metadata": {},
   "outputs": [],
   "source": [
    "butanol = \"CCCO\"\n",
    "tertbutanol = \"C(C)(C)(C)(O)\"\n",
    "vanillin = \"c1(O)c(OC)cc(C=O)cc1\"\n",
    "\n",
    "Chem.MolFromSmiles(vanillin)\n",
    "\n",
    "aspirin_smiles = \"CC(=O)OC1=CC=CC=C1C(=O)O\"\n",
    "aspirin = Chem.MolFromSmiles(aspirin_smiles)\n",
    "print(\"InChI: \", Chem.MolToInchi(aspirin))\n",
    "print(\"InChI Key: \", Chem.InchiToInchiKey(Chem.MolToInchi(aspirin)))\n",
    "\n",
    "\n"
   ]
  },
  {
   "cell_type": "code",
   "execution_count": null,
   "id": "a0ec6b3b-63dc-4a70-8fb0-3516bc12fd84",
   "metadata": {},
   "outputs": [],
   "source": [
    "aspirin_smiles = \"CC(=O)OC1=CC=CC=C1C(=O)O\"\n",
    "aspirin = Chem.MolFromSmiles(aspirin_smiles)\n",
    "print(\"InChI: \", Chem.MolToInchi(aspirin))\n",
    "print(\"InChI Key: \", Chem.InchiToInchiKey(Chem.MolToInchi(aspirin)))\n",
    "\n",
    "aspirin_inchi = \"InChI=1S/C9H8O4/c1-6(10)13-8-5-3-2-4-7(8)9(11)12/h2-5H,1H3,(H,11,12)\"\n",
    "aspirin = Chem.MolFromInchi(aspirin_inchi)\n",
    "aspirin"
   ]
  },
  {
   "cell_type": "code",
   "execution_count": null,
   "id": "41d4e9b5-5506-4f41-a2b7-45be82812994",
   "metadata": {},
   "outputs": [],
   "source": [
    "butanol = \"CCCO\"\n",
    "tertbutanol = \"C(C)(C)(C)(O)\"\n",
    "vanillin = \"c1(O)c(OC)cc(C=O)cc1\"\n",
    "\n",
    "Chem.MolFromSmiles(vanillin)"
   ]
  },
  {
   "cell_type": "code",
   "execution_count": null,
   "id": "eb8d1cb3-8f41-4925-85a0-f79d41a4c4be",
   "metadata": {},
   "outputs": [],
   "source": [
    "# remove the rows with NaN values\n",
    "df = df.dropna(subset=[\"Smiles\"])"
   ]
  },
  {
   "cell_type": "code",
   "execution_count": null,
   "id": "fcace3ad-69ad-4e63-ac9f-423b158c1e25",
   "metadata": {},
   "outputs": [],
   "source": [
    "indazole_smi = \"c1cc2c(cc1)C=NNtest_mol = df[\"mol\"][0]\n",
    "test_mol2\"\n",
    "indazole = Chem.MolFromSmiles(indazole_smi)\n",
    "indazole\n"
   ]
  },
  {
   "cell_type": "code",
   "execution_count": null,
   "id": "cbe012dd-af64-4dcf-a30f-f6f778adca99",
   "metadata": {},
   "outputs": [],
   "source": [
    "test_mol = df[\"mol\"][0]\n",
    "test_mol"
   ]
  },
  {
   "cell_type": "code",
   "execution_count": null,
   "id": "c6ca5c6b-94df-427f-81bc-cbe7e5de5c93",
   "metadata": {},
   "outputs": [],
   "source": [
    "test_mol.HasSubstructMatch(indazole)"
   ]
  },
  {
   "cell_type": "code",
   "execution_count": null,
   "id": "a2f1c62c-6f8e-4a85-b17e-8f2baa630086",
   "metadata": {},
   "outputs": [],
   "source": [
    "# 1) only keep those with the motif\n",
    "df_fil = df[df['has_indazole']]\n",
    "df_fil.head()"
   ]
  },
  {
   "cell_type": "code",
   "execution_count": null,
   "id": "1188474f-ef81-4fd5-a603-aa25a9ec3786",
   "metadata": {},
   "outputs": [],
   "source": [
    "# 2) only keep tyrosine kinase inhibitors\n",
    "tki = df_fil[df_fil['USAN Definition'].str.contains(\"tyrosine kinase inhibitor\")]\n",
    "tki"
   ]
  },
  {
   "cell_type": "code",
   "execution_count": null,
   "id": "c86aa599-7601-49a6-8fed-1ec8ea77245c",
   "metadata": {},
   "outputs": [],
   "source": [
    "# visualize the remaining TKI structures using the PandasTools.FrameToGridImage function\n",
    "PandasTools.FrameToGridImage(tki, column='mol', legendsCol=\"USAN Definition\", molsPerRow=3, subImgSize=(350, 300))"
   ]
  },
  {
   "cell_type": "code",
   "execution_count": null,
   "id": "a3ac8068-ba43-4102-ad65-8e4dc26da117",
   "metadata": {},
   "outputs": [],
   "source": [
    "#  highlight the indazole motif using the Draw.MolToImage function\n",
    "from rdkit.Chem import Draw\n",
    "img = Draw.MolToImage(mol, highlightAtoms=match_indices)\n",
    "img"
   ]
  },
  {
   "cell_type": "code",
   "execution_count": null,
   "id": "2d6ee429-2ca5-4c11-8a64-8ed9e92edb76",
   "metadata": {},
   "outputs": [],
   "source": [
    "s_thalidomide = Chem.MolFromSmiles('O=C1c2ccccc2C(=O)N1[C@H]3CCC(=O)NC3=O')\n",
    "s_thalidomide\n",
    "# find the Thalidomide molecule object in the dataframe\n",
    "thalidomide= df[df[\"Name\"] == \"THALIDOMIDE\"]['mol'].values[0]\n",
    "type(thalidomide)\n",
    "# check if the Thalidomide molecule object has the S motif using the HasSubstructMatch function\n",
    "thalidomide.HasSubstructMatch(s_thalidomide)\n",
    "thalidomide.HasSubstructMatch(s_thalidomide, useChirality=True)\n",
    "from rdkit.Chem import rdFMCS\n",
    "tki_mols = tki['mol'].tolist()\n",
    "tki_mols[0]\n"
   ]
  },
  {
   "cell_type": "code",
   "execution_count": null,
   "id": "7ee6aa15-cf9b-4016-8683-25b003695712",
   "metadata": {},
   "outputs": [],
   "source": [
    "# extract all TKI molecules from the dataframe\n",
    "tki_all = df[df['USAN Definition'].str.contains(\"tyrosine kinase inhibitor\")]\n",
    "mols_all = tki_all['mol'].tolist()\n",
    "len(tki_all)"
   ]
  },
  {
   "cell_type": "code",
   "execution_count": null,
   "id": "b861655f-4e63-4de3-8538-2932f72fdb10",
   "metadata": {},
   "outputs": [],
   "source": []
  },
  {
   "cell_type": "code",
   "execution_count": null,
   "id": "202a4569-7f03-46f6-a913-1e9f6ddf9779",
   "metadata": {},
   "outputs": [],
   "source": [
    "import pandas as pd\n",
    "\n",
    "# Specify the correct file path\n",
    "file_path = \"../exercices/week 5/chembl_drugs.csv\"\n",
    "\n",
    "# Read the CSV file using Pandas\n",
    "drugs = pd.read_csv(file_path, sep=';')\n",
    "\n",
    "print(\"Shape:\", drugs.shape)\n",
    "print(\"Columns:\", drugs.columns)"
   ]
  },
  {
   "cell_type": "code",
   "execution_count": null,
   "id": "14a3d47d-97b4-4ddd-869c-2f35e478b87e",
   "metadata": {},
   "outputs": [],
   "source": [
    "approved_drugs = drugs[(drugs[\"Phase\"] == 4) & (drugs[\"Smiles\"].notnull())]"
   ]
  },
  {
   "cell_type": "code",
   "execution_count": null,
   "id": "c011f9d8-97d4-451d-a4bf-c13d562ab91a",
   "metadata": {},
   "outputs": [],
   "source": [
    "from rdkit.Chem import PandasTools\n",
    "\n",
    "PandasTools.RenderImagesInAllDataFrames(images = True) # needed to render images if you run the cell multiple times\n",
    "\n",
    "PandasTools.AddMoleculeColumnToFrame(approved_drugs, smilesCol = \"Smiles\", molCol = \"RdkitMOL\")"
   ]
  },
  {
   "cell_type": "code",
   "execution_count": null,
   "id": "87ead0a3-2f72-4faa-b102-40f68df1edfe",
   "metadata": {},
   "outputs": [],
   "source": [
    "approved_drugs.head(2)"
   ]
  },
  {
   "cell_type": "code",
   "execution_count": null,
   "id": "db66f942-ec5a-4709-8dc9-2146450d2c18",
   "metadata": {},
   "outputs": [],
   "source": [
    "from rdkit import Chem\n",
    "from rdkit.Chem.Draw import IPythonConsole\n",
    "IPythonConsole.ipython_useSVG=True\n",
    "import pandas as pd"
   ]
  },
  {
   "cell_type": "code",
   "execution_count": null,
   "id": "a46307de-5e9a-4cbd-b072-caadf67e42f8",
   "metadata": {},
   "outputs": [],
   "source": []
  },
  {
   "cell_type": "code",
   "execution_count": null,
   "id": "1899ee4f-4601-449f-a4df-c2e3de99d1b6",
   "metadata": {},
   "outputs": [],
   "source": []
  },
  {
   "cell_type": "code",
   "execution_count": null,
   "id": "499cdb3f-c3e8-4a19-9f90-2d9cf5151721",
   "metadata": {},
   "outputs": [],
   "source": []
  },
  {
   "cell_type": "code",
   "execution_count": null,
   "id": "7c93ded8-0fb4-41bc-a6ea-2c9ac8f56483",
   "metadata": {},
   "outputs": [],
   "source": []
  },
  {
   "cell_type": "code",
   "execution_count": null,
   "id": "494862f3-0ce2-42e4-84bb-b17522a063f2",
   "metadata": {},
   "outputs": [],
   "source": []
  },
  {
   "cell_type": "code",
   "execution_count": null,
   "id": "ad17bbaa-461b-4784-8ad0-0026e4c9fdb6",
   "metadata": {},
   "outputs": [],
   "source": []
  },
  {
   "cell_type": "code",
   "execution_count": null,
   "id": "d5aa79aa-3249-4863-9973-59b9fb8a34b8",
   "metadata": {},
   "outputs": [],
   "source": []
  },
  {
   "cell_type": "code",
   "execution_count": null,
   "id": "8a77404b-74d2-4e33-8ab6-c2fe0e672fb7",
   "metadata": {},
   "outputs": [],
   "source": []
  },
  {
   "cell_type": "code",
   "execution_count": null,
   "id": "0edad500-eb6c-4978-ba09-9452bbb8d494",
   "metadata": {},
   "outputs": [],
   "source": []
  },
  {
   "cell_type": "code",
   "execution_count": null,
   "id": "30281e69-a0c7-421a-9fc0-a47cfc59a303",
   "metadata": {},
   "outputs": [],
   "source": [
    "databasef1= pd.read_csv(project/data/database.csv, sep=';')\n",
    "databasef1d"
   ]
  }
 ],
 "metadata": {
  "kernelspec": {
   "display_name": "Python 3 (ipykernel)",
   "language": "python",
   "name": "python3"
  },
  "language_info": {
   "codemirror_mode": {
    "name": "ipython",
    "version": 3
   },
   "file_extension": ".py",
   "mimetype": "text/x-python",
   "name": "python",
   "nbconvert_exporter": "python",
   "pygments_lexer": "ipython3",
   "version": "3.10.13"
  }
 },
 "nbformat": 4,
 "nbformat_minor": 5
}
