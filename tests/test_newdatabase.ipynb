{
 "cells": [
  {
   "cell_type": "code",
   "execution_count": 1,
   "id": "5c5677a2-e560-4bb5-81b7-470f75045b6f",
   "metadata": {},
   "outputs": [
    {
     "name": "stderr",
     "output_type": "stream",
     "text": [
      "test_new_database_no_Isopropyl (__main__.TestNewDatabaseFunctions) ... ok\n",
      "test_new_database_no_NaOH (__main__.TestNewDatabaseFunctions) ... ok\n",
      "test_new_database_no_other (__main__.TestNewDatabaseFunctions) ... ok\n",
      "\n",
      "----------------------------------------------------------------------\n",
      "Ran 3 tests in 0.005s\n",
      "\n",
      "OK\n"
     ]
    }
   ],
   "source": [
    "import sys\n",
    "import os\n",
    "sys.path.append(os.path.abspath('../src'))\n",
    "\n",
    "import unittest\n",
    "import pandas as pd\n",
    "from Proj_VCB.functions.newdatabase import new_database_no_Isopropyl, new_database_no_NaOH, new_database_no_other\n",
    "\n",
    "class TestNewDatabaseFunctions(unittest.TestCase):\n",
    "\n",
    "    def setUp(self):\n",
    "        data = {\n",
    "            'Cream': ['La Rosée', 'La Roche-Posay', 'Nivea', 'Avene', 'La Prairie', 'Nuxe', 'Diadermine', 'L\\'Oréal', 'La Neige'],\n",
    "            'Molecule': ['Molecule1', 'Molecule2', 'Molecule3', 'Molecule4', 'Molecule5', 'Molecule6', 'Molecule7', 'Molecule8', 'Molecule9']\n",
    "        }\n",
    "        self.df = pd.DataFrame(data)\n",
    "    \n",
    "    def test_new_database_no_Isopropyl(self):\n",
    "        result = new_database_no_Isopropyl(self.df)\n",
    "        self.assertNotIn('La Rosée', result['Cream'].values)\n",
    "    \n",
    "    def test_new_database_no_NaOH(self):\n",
    "        result = new_database_no_NaOH(self.df)\n",
    "        for value in ['La Roche-Posay', 'Nivea', 'Avene', 'La Prairie']:\n",
    "            self.assertNotIn(value, result['Cream'].values)\n",
    "    \n",
    "    def test_new_database_no_other(self):\n",
    "        result = new_database_no_other(self.df)\n",
    "        for value in ['Nuxe', 'Diadermine', 'L\\'Oréal', 'La Neige']:\n",
    "            self.assertNotIn(value, result['Cream'].values)\n",
    "\n",
    "if __name__ == '__main__':\n",
    "    unittest.main(argv=[''], verbosity=2, exit=False)\n"
   ]
  },
  {
   "cell_type": "code",
   "execution_count": null,
   "id": "83059f2c-65e9-4dab-8119-17535ed70612",
   "metadata": {},
   "outputs": [],
   "source": []
  }
 ],
 "metadata": {
  "kernelspec": {
   "display_name": "Python 3 (ipykernel)",
   "language": "python",
   "name": "python3"
  },
  "language_info": {
   "codemirror_mode": {
    "name": "ipython",
    "version": 3
   },
   "file_extension": ".py",
   "mimetype": "text/x-python",
   "name": "python",
   "nbconvert_exporter": "python",
   "pygments_lexer": "ipython3",
   "version": "3.10.13"
  }
 },
 "nbformat": 4,
 "nbformat_minor": 5
}
