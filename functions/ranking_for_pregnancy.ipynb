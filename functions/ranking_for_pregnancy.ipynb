{
 "cells": [
  {
   "cell_type": "code",
   "execution_count": null,
   "id": "e175f1b0-a2d9-4c09-85f9-edb708e57032",
   "metadata": {},
   "outputs": [],
   "source": [
    "import pandas as pd\n",
    "\n",
    "def filter_pregnancy_risk(data):\n",
    "    \"\"\"\n",
    "    Filtre une base de données pour ne conserver que les molécules dangereuses pour les femmes enceintes.\n",
    "\n",
    "    Parameters:\n",
    "    data (pd.DataFrame): La base de données contenant les informations sur les molécules, avec une colonne \"Pregnancy Risk\".\n",
    "\n",
    "    Returns:\n",
    "    pd.DataFrame: Une base de données filtrée contenant uniquement les molécules dangereuses pour les femmes enceintes.\n",
    "    \"\"\"\n",
    "    # Filtrer les données\n",
    "    dataPR = data[data[\"Pregnancy Risk\"] != \"No\"]\n",
    "    #Cela sélectionne uniquement les lignes où la colonne \"Pregnancy Risk\" n'est pas égale à \"No\".\n",
    "    \n",
    "    # Afficher le message\n",
    "    print(\"Data base with molecules dangerous for pregnant women\")\n",
    "    \n",
    "    # Retourner les données filtrées\n",
    "    return dataPR\n",
    "\n",
    "# Exemple d'utilisation\n",
    "# Supposons que vous avez une base de données pandas DataFrame appelée `data`\n",
    "# data = pd.read_csv(\"votre_fichier.csv\")  # ou autre méthode pour obtenir votre DataFrame\n",
    "\n",
    "# Appeler la fonction\n",
    "# filtered_data = filter_pregnancy_risk(data)\n",
    "# print(filtered_data)\n"
   ]
  }
 ],
 "metadata": {
  "kernelspec": {
   "display_name": "Python 3 (ipykernel)",
   "language": "python",
   "name": "python3"
  },
  "language_info": {
   "codemirror_mode": {
    "name": "ipython",
    "version": 3
   },
   "file_extension": ".py",
   "mimetype": "text/x-python",
   "name": "python",
   "nbconvert_exporter": "python",
   "pygments_lexer": "ipython3",
   "version": "3.10.13"
  }
 },
 "nbformat": 4,
 "nbformat_minor": 5
}
