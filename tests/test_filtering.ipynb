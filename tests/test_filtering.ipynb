{
 "cells": [
  {
   "cell_type": "code",
   "execution_count": 1,
   "id": "12d25019-5882-4b00-8260-5a123db291b3",
   "metadata": {},
   "outputs": [
    {
     "name": "stderr",
     "output_type": "stream",
     "text": [
      "test_filter_Isopropyl (__main__.TestFilterFunctions) ... ok\n",
      "test_filter_NaOH (__main__.TestFilterFunctions) ... ok\n",
      "test_filter_allother (__main__.TestFilterFunctions) ... FAIL\n",
      "\n",
      "======================================================================\n",
      "FAIL: test_filter_allother (__main__.TestFilterFunctions)\n",
      "----------------------------------------------------------------------\n",
      "Traceback (most recent call last):\n",
      "  File \"/var/folders/s7/8xqqc8_x7g38j5x2ddblrgx00000gn/T/ipykernel_47668/4013185345.py\", line 32, in test_filter_allother\n",
      "    self.assertEqual(len(result), 4)  # Four molecules match the keywords\n",
      "AssertionError: 3 != 4\n",
      "\n",
      "----------------------------------------------------------------------\n",
      "Ran 3 tests in 0.007s\n",
      "\n",
      "FAILED (failures=1)\n"
     ]
    },
    {
     "name": "stdout",
     "output_type": "stream",
     "text": [
      "Filtered DataFrame for allother:\n",
      "      Molecule    Cream\n",
      "2     Linalool  Cream C\n",
      "3  Citronellol  Cream D\n",
      "4     Limonene  Cream E\n"
     ]
    }
   ],
   "source": [
    "import sys\n",
    "import os\n",
    "sys.path.append(os.path.abspath('../src'))\n",
    "\n",
    "import unittest\n",
    "import pandas as pd\n",
    "from Proj_VCB.functions.filter import filter_Isopropyl, filter_NaOH, filter_allother\n",
    "\n",
    "class TestFilterFunctions(unittest.TestCase):\n",
    "    \n",
    "    def setUp(self):\n",
    "        data = {\n",
    "            'Molecule': ['Isopropyl Palmitate', 'Sodium Hydroxide', 'Linalool', 'Citronellol', 'Limonene'],\n",
    "            'Cream': ['Cream A', 'Cream B', 'Cream C', 'Cream D', 'Cream E']\n",
    "        }\n",
    "        self.df = pd.DataFrame(data)\n",
    "    \n",
    "    def test_filter_Isopropyl(self):\n",
    "        result = filter_Isopropyl(self.df)\n",
    "        self.assertEqual(len(result), 1)\n",
    "        self.assertEqual(result['Molecule'].values[0], 'Isopropyl Palmitate')\n",
    "    \n",
    "    def test_filter_NaOH(self):\n",
    "        result = filter_NaOH(self.df)\n",
    "        self.assertEqual(len(result), 1)\n",
    "        self.assertEqual(result['Molecule'].values[0], 'Sodium Hydroxide')\n",
    "    \n",
    "    def test_filter_allother(self):\n",
    "        result = filter_allother(self.df)\n",
    "        print(\"Filtered DataFrame for allother:\")\n",
    "        print(result)\n",
    "        self.assertEqual(len(result), 3)  # Four molecules match the keywords\n",
    "        self.assertIn('Linalool', result['Molecule'].values)\n",
    "        self.assertIn('Citronellol', result['Molecule'].values)\n",
    "        self.assertIn('Limonene', result['Molecule'].values)\n",
    "\n",
    "if __name__ == '__main__':\n",
    "    unittest.main(argv=[''], verbosity=2, exit=False)\n"
   ]
  },
  {
   "cell_type": "code",
   "execution_count": null,
   "id": "220cceb7-fb99-4517-87d0-bae679df5e3c",
   "metadata": {},
   "outputs": [],
   "source": []
  },
  {
   "cell_type": "code",
   "execution_count": null,
   "id": "67c7ee05-5f56-445e-9c76-330da284a426",
   "metadata": {},
   "outputs": [],
   "source": []
  }
 ],
 "metadata": {
  "kernelspec": {
   "display_name": "Python 3 (ipykernel)",
   "language": "python",
   "name": "python3"
  },
  "language_info": {
   "codemirror_mode": {
    "name": "ipython",
    "version": 3
   },
   "file_extension": ".py",
   "mimetype": "text/x-python",
   "name": "python",
   "nbconvert_exporter": "python",
   "pygments_lexer": "ipython3",
   "version": "3.10.13"
  }
 },
 "nbformat": 4,
 "nbformat_minor": 5
}
