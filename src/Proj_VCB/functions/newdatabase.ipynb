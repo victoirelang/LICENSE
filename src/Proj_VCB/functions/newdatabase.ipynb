{
 "cells": [
  {
   "cell_type": "code",
   "execution_count": 4,
   "id": "2fea2147-a3dc-41d4-aba2-c746c2173daa",
   "metadata": {},
   "outputs": [
    {
     "ename": "IndentationError",
     "evalue": "unindent does not match any outer indentation level (<tokenize>, line 23)",
     "output_type": "error",
     "traceback": [
      "\u001b[0;36m  File \u001b[0;32m<tokenize>:23\u001b[0;36m\u001b[0m\n\u001b[0;31m    database_filtered_1= database[database[column_name] != excluded_value]\u001b[0m\n\u001b[0m    ^\u001b[0m\n\u001b[0;31mIndentationError\u001b[0m\u001b[0;31m:\u001b[0m unindent does not match any outer indentation level\n"
     ]
    }
   ],
   "source": [
    "import pandas as pd\n",
    "\n",
    "def new_database_no_Isopropyl(database, column_name=\"Cream\", excluded_value=\"La Rosée\"):\n",
    "     \"\"\"\n",
    "    Excludes rows from the DataFrame where the specified column contains the specified value.\n",
    "\n",
    "    Parameters:\n",
    "    - database (pd.DataFrame): The DataFrame to filter.\n",
    "    - column_name (str): Name of the column to apply the filter on. Default is 'Cream'.\n",
    "    - excluded_value (str): Value to exclude in the specified column. Default is 'La Rosée'.\n",
    "\n",
    "    Returns:\n",
    "    - pd.DataFrame: A new DataFrame excluding the rows where the specified column contains the excluded value.\n",
    "\n",
    "    Example:\n",
    "    >>> db = pd.DataFrame({'Cream': ['La Rosée', 'Nivea', 'La Rosée', 'Dove']})\n",
    "    >>> filtered_db = exclude_entries(db)\n",
    "    >>> print(filtered_db)\n",
    "      Cream\n",
    "    1  Nivea\n",
    "    3  Dove\n",
    "    \"\"\"\n",
    "    database_filtered_1= database[database[column_name] != excluded_value]\n",
    "    return database_filtered_1"
   ]
  },
  {
   "cell_type": "code",
   "execution_count": 1,
   "id": "263f7f15-567c-4cdb-84a0-6c9e620d9e56",
   "metadata": {},
   "outputs": [],
   "source": [
    "import pandas as pd\n",
    "\n",
    "def new_database_no_NaOH(database, column_name, excluded_values=[\"La Roche-Posay\",\"Nivea\",\"Avene\",\"La Prairie\"]):\n",
    "    \"\"\"\n",
    "    Excludes rows from the DataFrame where the specified column contains any of the specified values.\n",
    "\n",
    "    Parameters:\n",
    "    - database (pd.DataFrame): The DataFrame to filter.\n",
    "    - column_name (str): Name of the column to apply the filter on.\n",
    "    - excluded_values (list): List of values to exclude in the specified column.\n",
    "\n",
    "    Returns:\n",
    "    - pd.DataFrame: A new DataFrame excluding the rows where the specified column contains any of the excluded values.\n",
    "    \"\"\"\n",
    "    database_filtered_2= database[database[column_name].isin(excluded_values)]\n",
    "    return database_filtered_2\n"
   ]
  },
  {
   "cell_type": "code",
   "execution_count": null,
   "id": "69741403-4394-4143-99bd-ae0416b482bc",
   "metadata": {},
   "outputs": [],
   "source": []
  },
  {
   "cell_type": "code",
   "execution_count": 2,
   "id": "f5d6df06-464a-4b0c-b3c3-cedda4f2b740",
   "metadata": {},
   "outputs": [],
   "source": [
    "import pandas as pd\n",
    "\n",
    "def new_database_other(database, column_name, excluded_values=[\"Nuxe\",\"Diadermine\",\"L'Oréal\",\"La Neige\"]):\n",
    "    \"\"\"\n",
    "    Filters out rows in the DataFrame where the specified column contains any of the given values\n",
    "    using a list comprehension.\n",
    "\n",
    "    Parameters:\n",
    "    - database (pd.DataFrame): The DataFrame to filter.\n",
    "    - column_name (str): The name of the column to apply the filter on.\n",
    "    - excluded_values (list): A list of values to exclude from the specified column.\n",
    "\n",
    "    Returns:\n",
    "    - pd.DataFrame: A new DataFrame excluding rows where the column contains any of the excluded values.\n",
    "    \"\"\"\n",
    "    # Applying list comprehension to filter the DataFrame\n",
    "    return pd.DataFrame([row for idx, row in database.iterrows() if row[column_name] not in excluded_values])\n"
   ]
  }
 ],
 "metadata": {
  "kernelspec": {
   "display_name": "Python 3 (ipykernel)",
   "language": "python",
   "name": "python3"
  },
  "language_info": {
   "codemirror_mode": {
    "name": "ipython",
    "version": 3
   },
   "file_extension": ".py",
   "mimetype": "text/x-python",
   "name": "python",
   "nbconvert_exporter": "python",
   "pygments_lexer": "ipython3",
   "version": "3.10.13"
  }
 },
 "nbformat": 4,
 "nbformat_minor": 5
}
